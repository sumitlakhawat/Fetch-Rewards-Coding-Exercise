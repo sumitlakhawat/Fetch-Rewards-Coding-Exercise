{
  "nbformat": 4,
  "nbformat_minor": 0,
  "metadata": {
    "colab": {
      "provenance": []
    },
    "kernelspec": {
      "name": "python3",
      "display_name": "Python 3"
    },
    "language_info": {
      "name": "python"
    }
  },
  "cells": [
    {
      "cell_type": "markdown",
      "source": [
        "#Fetch Rewards Coding Exercise"
      ],
      "metadata": {
        "id": "CmsFh_zZQ4MT"
      }
    },
    {
      "cell_type": "markdown",
      "source": [
        "The below Python script reviews unstructured data in JSON files(brands, receipts, users) and cleans and re-structure it in a tabular format. Some predetermined business questions are answered based on the newly created structured relational model through PostgreSQL. Data quality issues are also identified in this script which are worth mentioning to stakeholders."
      ],
      "metadata": {
        "id": "-5I2Vbm-Q_tF"
      }
    },
    {
      "cell_type": "markdown",
      "source": [
        "##Section 1: Reviewing unstructured data and re-structuring"
      ],
      "metadata": {
        "id": "lfPPZXn3hkno"
      }
    },
    {
      "cell_type": "markdown",
      "source": [
        "Pandas library is used to do all the exploration and cleaning of the data. Matplotlib library is used to do the visualization."
      ],
      "metadata": {
        "id": "krwaUQK9Z3cP"
      }
    },
    {
      "cell_type": "code",
      "execution_count": 1,
      "metadata": {
        "id": "1nrOTcwezMjj"
      },
      "outputs": [],
      "source": [
        "import pandas as pd\n",
        "import matplotlib.pyplot as plt"
      ]
    },
    {
      "cell_type": "markdown",
      "source": [
        "###Receipts"
      ],
      "metadata": {
        "id": "7T7h-8HIYgAg"
      }
    },
    {
      "cell_type": "markdown",
      "source": [
        "We read the JSON data into a dataframe."
      ],
      "metadata": {
        "id": "vBgz0TSmaHxQ"
      }
    },
    {
      "cell_type": "code",
      "source": [
        "# Reading the receipts.json file\n",
        "receipts_df = pd.read_json('receipts.json', lines='True')"
      ],
      "metadata": {
        "id": "f9rNqcZ8z1OT"
      },
      "execution_count": 2,
      "outputs": []
    },
    {
      "cell_type": "code",
      "source": [
        "receipts_df.head()"
      ],
      "metadata": {
        "colab": {
          "base_uri": "https://localhost:8080/",
          "height": 357
        },
        "id": "7hcPJP9Ya5DQ",
        "outputId": "fbb80ba3-a7c6-4ac6-a124-55534c86fc12"
      },
      "execution_count": 3,
      "outputs": [
        {
          "output_type": "execute_result",
          "data": {
            "text/plain": [
              "                                    _id  bonusPointsEarned  \\\n",
              "0  {'$oid': '5ff1e1eb0a720f0523000575'}              500.0   \n",
              "1  {'$oid': '5ff1e1bb0a720f052300056b'}              150.0   \n",
              "2  {'$oid': '5ff1e1f10a720f052300057a'}                5.0   \n",
              "3  {'$oid': '5ff1e1ee0a7214ada100056f'}                5.0   \n",
              "4  {'$oid': '5ff1e1d20a7214ada1000561'}                5.0   \n",
              "\n",
              "                             bonusPointsEarnedReason  \\\n",
              "0  Receipt number 2 completed, bonus point schedu...   \n",
              "1  Receipt number 5 completed, bonus point schedu...   \n",
              "2                         All-receipts receipt bonus   \n",
              "3                         All-receipts receipt bonus   \n",
              "4                         All-receipts receipt bonus   \n",
              "\n",
              "                 createDate               dateScanned  \\\n",
              "0  {'$date': 1609687531000}  {'$date': 1609687531000}   \n",
              "1  {'$date': 1609687483000}  {'$date': 1609687483000}   \n",
              "2  {'$date': 1609687537000}  {'$date': 1609687537000}   \n",
              "3  {'$date': 1609687534000}  {'$date': 1609687534000}   \n",
              "4  {'$date': 1609687506000}  {'$date': 1609687506000}   \n",
              "\n",
              "               finishedDate                modifyDate  \\\n",
              "0  {'$date': 1609687531000}  {'$date': 1609687536000}   \n",
              "1  {'$date': 1609687483000}  {'$date': 1609687488000}   \n",
              "2                       NaN  {'$date': 1609687542000}   \n",
              "3  {'$date': 1609687534000}  {'$date': 1609687539000}   \n",
              "4  {'$date': 1609687511000}  {'$date': 1609687511000}   \n",
              "\n",
              "          pointsAwardedDate  pointsEarned              purchaseDate  \\\n",
              "0  {'$date': 1609687531000}         500.0  {'$date': 1609632000000}   \n",
              "1  {'$date': 1609687483000}         150.0  {'$date': 1609601083000}   \n",
              "2                       NaN           5.0  {'$date': 1609632000000}   \n",
              "3  {'$date': 1609687534000}           5.0  {'$date': 1609632000000}   \n",
              "4  {'$date': 1609687506000}           5.0  {'$date': 1609601106000}   \n",
              "\n",
              "   purchasedItemCount                             rewardsReceiptItemList  \\\n",
              "0                 5.0  [{'barcode': '4011', 'description': 'ITEM NOT ...   \n",
              "1                 2.0  [{'barcode': '4011', 'description': 'ITEM NOT ...   \n",
              "2                 1.0  [{'needsFetchReview': False, 'partnerItemId': ...   \n",
              "3                 4.0  [{'barcode': '4011', 'description': 'ITEM NOT ...   \n",
              "4                 2.0  [{'barcode': '4011', 'description': 'ITEM NOT ...   \n",
              "\n",
              "  rewardsReceiptStatus  totalSpent                    userId  \n",
              "0             FINISHED        26.0  5ff1e1eacfcf6c399c274ae6  \n",
              "1             FINISHED        11.0  5ff1e194b6a9d73a3a9f1052  \n",
              "2             REJECTED        10.0  5ff1e1f1cfcf6c399c274b0b  \n",
              "3             FINISHED        28.0  5ff1e1eacfcf6c399c274ae6  \n",
              "4             FINISHED         1.0  5ff1e194b6a9d73a3a9f1052  "
            ],
            "text/html": [
              "\n",
              "\n",
              "  <div id=\"df-2c7275e7-7ec1-469e-8cfc-f56467e105c1\">\n",
              "    <div class=\"colab-df-container\">\n",
              "      <div>\n",
              "<style scoped>\n",
              "    .dataframe tbody tr th:only-of-type {\n",
              "        vertical-align: middle;\n",
              "    }\n",
              "\n",
              "    .dataframe tbody tr th {\n",
              "        vertical-align: top;\n",
              "    }\n",
              "\n",
              "    .dataframe thead th {\n",
              "        text-align: right;\n",
              "    }\n",
              "</style>\n",
              "<table border=\"1\" class=\"dataframe\">\n",
              "  <thead>\n",
              "    <tr style=\"text-align: right;\">\n",
              "      <th></th>\n",
              "      <th>_id</th>\n",
              "      <th>bonusPointsEarned</th>\n",
              "      <th>bonusPointsEarnedReason</th>\n",
              "      <th>createDate</th>\n",
              "      <th>dateScanned</th>\n",
              "      <th>finishedDate</th>\n",
              "      <th>modifyDate</th>\n",
              "      <th>pointsAwardedDate</th>\n",
              "      <th>pointsEarned</th>\n",
              "      <th>purchaseDate</th>\n",
              "      <th>purchasedItemCount</th>\n",
              "      <th>rewardsReceiptItemList</th>\n",
              "      <th>rewardsReceiptStatus</th>\n",
              "      <th>totalSpent</th>\n",
              "      <th>userId</th>\n",
              "    </tr>\n",
              "  </thead>\n",
              "  <tbody>\n",
              "    <tr>\n",
              "      <th>0</th>\n",
              "      <td>{'$oid': '5ff1e1eb0a720f0523000575'}</td>\n",
              "      <td>500.0</td>\n",
              "      <td>Receipt number 2 completed, bonus point schedu...</td>\n",
              "      <td>{'$date': 1609687531000}</td>\n",
              "      <td>{'$date': 1609687531000}</td>\n",
              "      <td>{'$date': 1609687531000}</td>\n",
              "      <td>{'$date': 1609687536000}</td>\n",
              "      <td>{'$date': 1609687531000}</td>\n",
              "      <td>500.0</td>\n",
              "      <td>{'$date': 1609632000000}</td>\n",
              "      <td>5.0</td>\n",
              "      <td>[{'barcode': '4011', 'description': 'ITEM NOT ...</td>\n",
              "      <td>FINISHED</td>\n",
              "      <td>26.0</td>\n",
              "      <td>5ff1e1eacfcf6c399c274ae6</td>\n",
              "    </tr>\n",
              "    <tr>\n",
              "      <th>1</th>\n",
              "      <td>{'$oid': '5ff1e1bb0a720f052300056b'}</td>\n",
              "      <td>150.0</td>\n",
              "      <td>Receipt number 5 completed, bonus point schedu...</td>\n",
              "      <td>{'$date': 1609687483000}</td>\n",
              "      <td>{'$date': 1609687483000}</td>\n",
              "      <td>{'$date': 1609687483000}</td>\n",
              "      <td>{'$date': 1609687488000}</td>\n",
              "      <td>{'$date': 1609687483000}</td>\n",
              "      <td>150.0</td>\n",
              "      <td>{'$date': 1609601083000}</td>\n",
              "      <td>2.0</td>\n",
              "      <td>[{'barcode': '4011', 'description': 'ITEM NOT ...</td>\n",
              "      <td>FINISHED</td>\n",
              "      <td>11.0</td>\n",
              "      <td>5ff1e194b6a9d73a3a9f1052</td>\n",
              "    </tr>\n",
              "    <tr>\n",
              "      <th>2</th>\n",
              "      <td>{'$oid': '5ff1e1f10a720f052300057a'}</td>\n",
              "      <td>5.0</td>\n",
              "      <td>All-receipts receipt bonus</td>\n",
              "      <td>{'$date': 1609687537000}</td>\n",
              "      <td>{'$date': 1609687537000}</td>\n",
              "      <td>NaN</td>\n",
              "      <td>{'$date': 1609687542000}</td>\n",
              "      <td>NaN</td>\n",
              "      <td>5.0</td>\n",
              "      <td>{'$date': 1609632000000}</td>\n",
              "      <td>1.0</td>\n",
              "      <td>[{'needsFetchReview': False, 'partnerItemId': ...</td>\n",
              "      <td>REJECTED</td>\n",
              "      <td>10.0</td>\n",
              "      <td>5ff1e1f1cfcf6c399c274b0b</td>\n",
              "    </tr>\n",
              "    <tr>\n",
              "      <th>3</th>\n",
              "      <td>{'$oid': '5ff1e1ee0a7214ada100056f'}</td>\n",
              "      <td>5.0</td>\n",
              "      <td>All-receipts receipt bonus</td>\n",
              "      <td>{'$date': 1609687534000}</td>\n",
              "      <td>{'$date': 1609687534000}</td>\n",
              "      <td>{'$date': 1609687534000}</td>\n",
              "      <td>{'$date': 1609687539000}</td>\n",
              "      <td>{'$date': 1609687534000}</td>\n",
              "      <td>5.0</td>\n",
              "      <td>{'$date': 1609632000000}</td>\n",
              "      <td>4.0</td>\n",
              "      <td>[{'barcode': '4011', 'description': 'ITEM NOT ...</td>\n",
              "      <td>FINISHED</td>\n",
              "      <td>28.0</td>\n",
              "      <td>5ff1e1eacfcf6c399c274ae6</td>\n",
              "    </tr>\n",
              "    <tr>\n",
              "      <th>4</th>\n",
              "      <td>{'$oid': '5ff1e1d20a7214ada1000561'}</td>\n",
              "      <td>5.0</td>\n",
              "      <td>All-receipts receipt bonus</td>\n",
              "      <td>{'$date': 1609687506000}</td>\n",
              "      <td>{'$date': 1609687506000}</td>\n",
              "      <td>{'$date': 1609687511000}</td>\n",
              "      <td>{'$date': 1609687511000}</td>\n",
              "      <td>{'$date': 1609687506000}</td>\n",
              "      <td>5.0</td>\n",
              "      <td>{'$date': 1609601106000}</td>\n",
              "      <td>2.0</td>\n",
              "      <td>[{'barcode': '4011', 'description': 'ITEM NOT ...</td>\n",
              "      <td>FINISHED</td>\n",
              "      <td>1.0</td>\n",
              "      <td>5ff1e194b6a9d73a3a9f1052</td>\n",
              "    </tr>\n",
              "  </tbody>\n",
              "</table>\n",
              "</div>\n",
              "      <button class=\"colab-df-convert\" onclick=\"convertToInteractive('df-2c7275e7-7ec1-469e-8cfc-f56467e105c1')\"\n",
              "              title=\"Convert this dataframe to an interactive table.\"\n",
              "              style=\"display:none;\">\n",
              "\n",
              "  <svg xmlns=\"http://www.w3.org/2000/svg\" height=\"24px\"viewBox=\"0 0 24 24\"\n",
              "       width=\"24px\">\n",
              "    <path d=\"M0 0h24v24H0V0z\" fill=\"none\"/>\n",
              "    <path d=\"M18.56 5.44l.94 2.06.94-2.06 2.06-.94-2.06-.94-.94-2.06-.94 2.06-2.06.94zm-11 1L8.5 8.5l.94-2.06 2.06-.94-2.06-.94L8.5 2.5l-.94 2.06-2.06.94zm10 10l.94 2.06.94-2.06 2.06-.94-2.06-.94-.94-2.06-.94 2.06-2.06.94z\"/><path d=\"M17.41 7.96l-1.37-1.37c-.4-.4-.92-.59-1.43-.59-.52 0-1.04.2-1.43.59L10.3 9.45l-7.72 7.72c-.78.78-.78 2.05 0 2.83L4 21.41c.39.39.9.59 1.41.59.51 0 1.02-.2 1.41-.59l7.78-7.78 2.81-2.81c.8-.78.8-2.07 0-2.86zM5.41 20L4 18.59l7.72-7.72 1.47 1.35L5.41 20z\"/>\n",
              "  </svg>\n",
              "      </button>\n",
              "\n",
              "\n",
              "\n",
              "    <div id=\"df-e0bff51e-e065-4860-90ad-9908dbdd28dd\">\n",
              "      <button class=\"colab-df-quickchart\" onclick=\"quickchart('df-e0bff51e-e065-4860-90ad-9908dbdd28dd')\"\n",
              "              title=\"Suggest charts.\"\n",
              "              style=\"display:none;\">\n",
              "\n",
              "<svg xmlns=\"http://www.w3.org/2000/svg\" height=\"24px\"viewBox=\"0 0 24 24\"\n",
              "     width=\"24px\">\n",
              "    <g>\n",
              "        <path d=\"M19 3H5c-1.1 0-2 .9-2 2v14c0 1.1.9 2 2 2h14c1.1 0 2-.9 2-2V5c0-1.1-.9-2-2-2zM9 17H7v-7h2v7zm4 0h-2V7h2v10zm4 0h-2v-4h2v4z\"/>\n",
              "    </g>\n",
              "</svg>\n",
              "      </button>\n",
              "    </div>\n",
              "\n",
              "<style>\n",
              "  .colab-df-quickchart {\n",
              "    background-color: #E8F0FE;\n",
              "    border: none;\n",
              "    border-radius: 50%;\n",
              "    cursor: pointer;\n",
              "    display: none;\n",
              "    fill: #1967D2;\n",
              "    height: 32px;\n",
              "    padding: 0 0 0 0;\n",
              "    width: 32px;\n",
              "  }\n",
              "\n",
              "  .colab-df-quickchart:hover {\n",
              "    background-color: #E2EBFA;\n",
              "    box-shadow: 0px 1px 2px rgba(60, 64, 67, 0.3), 0px 1px 3px 1px rgba(60, 64, 67, 0.15);\n",
              "    fill: #174EA6;\n",
              "  }\n",
              "\n",
              "  [theme=dark] .colab-df-quickchart {\n",
              "    background-color: #3B4455;\n",
              "    fill: #D2E3FC;\n",
              "  }\n",
              "\n",
              "  [theme=dark] .colab-df-quickchart:hover {\n",
              "    background-color: #434B5C;\n",
              "    box-shadow: 0px 1px 3px 1px rgba(0, 0, 0, 0.15);\n",
              "    filter: drop-shadow(0px 1px 2px rgba(0, 0, 0, 0.3));\n",
              "    fill: #FFFFFF;\n",
              "  }\n",
              "</style>\n",
              "\n",
              "    <script>\n",
              "      async function quickchart(key) {\n",
              "        const containerElement = document.querySelector('#' + key);\n",
              "        const charts = await google.colab.kernel.invokeFunction(\n",
              "            'suggestCharts', [key], {});\n",
              "      }\n",
              "    </script>\n",
              "\n",
              "      <script>\n",
              "\n",
              "function displayQuickchartButton(domScope) {\n",
              "  let quickchartButtonEl =\n",
              "    domScope.querySelector('#df-e0bff51e-e065-4860-90ad-9908dbdd28dd button.colab-df-quickchart');\n",
              "  quickchartButtonEl.style.display =\n",
              "    google.colab.kernel.accessAllowed ? 'block' : 'none';\n",
              "}\n",
              "\n",
              "        displayQuickchartButton(document);\n",
              "      </script>\n",
              "      <style>\n",
              "    .colab-df-container {\n",
              "      display:flex;\n",
              "      flex-wrap:wrap;\n",
              "      gap: 12px;\n",
              "    }\n",
              "\n",
              "    .colab-df-convert {\n",
              "      background-color: #E8F0FE;\n",
              "      border: none;\n",
              "      border-radius: 50%;\n",
              "      cursor: pointer;\n",
              "      display: none;\n",
              "      fill: #1967D2;\n",
              "      height: 32px;\n",
              "      padding: 0 0 0 0;\n",
              "      width: 32px;\n",
              "    }\n",
              "\n",
              "    .colab-df-convert:hover {\n",
              "      background-color: #E2EBFA;\n",
              "      box-shadow: 0px 1px 2px rgba(60, 64, 67, 0.3), 0px 1px 3px 1px rgba(60, 64, 67, 0.15);\n",
              "      fill: #174EA6;\n",
              "    }\n",
              "\n",
              "    [theme=dark] .colab-df-convert {\n",
              "      background-color: #3B4455;\n",
              "      fill: #D2E3FC;\n",
              "    }\n",
              "\n",
              "    [theme=dark] .colab-df-convert:hover {\n",
              "      background-color: #434B5C;\n",
              "      box-shadow: 0px 1px 3px 1px rgba(0, 0, 0, 0.15);\n",
              "      filter: drop-shadow(0px 1px 2px rgba(0, 0, 0, 0.3));\n",
              "      fill: #FFFFFF;\n",
              "    }\n",
              "  </style>\n",
              "\n",
              "      <script>\n",
              "        const buttonEl =\n",
              "          document.querySelector('#df-2c7275e7-7ec1-469e-8cfc-f56467e105c1 button.colab-df-convert');\n",
              "        buttonEl.style.display =\n",
              "          google.colab.kernel.accessAllowed ? 'block' : 'none';\n",
              "\n",
              "        async function convertToInteractive(key) {\n",
              "          const element = document.querySelector('#df-2c7275e7-7ec1-469e-8cfc-f56467e105c1');\n",
              "          const dataTable =\n",
              "            await google.colab.kernel.invokeFunction('convertToInteractive',\n",
              "                                                     [key], {});\n",
              "          if (!dataTable) return;\n",
              "\n",
              "          const docLinkHtml = 'Like what you see? Visit the ' +\n",
              "            '<a target=\"_blank\" href=https://colab.research.google.com/notebooks/data_table.ipynb>data table notebook</a>'\n",
              "            + ' to learn more about interactive tables.';\n",
              "          element.innerHTML = '';\n",
              "          dataTable['output_type'] = 'display_data';\n",
              "          await google.colab.output.renderOutput(dataTable, element);\n",
              "          const docLink = document.createElement('div');\n",
              "          docLink.innerHTML = docLinkHtml;\n",
              "          element.appendChild(docLink);\n",
              "        }\n",
              "      </script>\n",
              "    </div>\n",
              "  </div>\n"
            ]
          },
          "metadata": {},
          "execution_count": 3
        }
      ]
    },
    {
      "cell_type": "markdown",
      "source": [
        "\n",
        "\n",
        "\n",
        " Analyzing the initial dataframe, we see that we need to deal with nested data in column '`rewardsReceiptItemList`', extract '`$oid`' values into the '`_id`' column, and change the datatype of different dates captured, as to better understand the data.\n",
        "\n",
        " As synonymous with our ERD, we extract the nested data in '`rewardsReceiptItemList`' into a new table. Each receipt can have multiple Items in it and it is better to have a separate table for items. It is clear that `receipts` table has one-to-many relationship with `items` table."
      ],
      "metadata": {
        "id": "2W0lpodfbAYY"
      }
    },
    {
      "cell_type": "code",
      "source": [
        "# Extracting the '$oid' values to '_id' column\n",
        "receipts_df['_id'] = receipts_df['_id'].apply(lambda x: x['$oid'])"
      ],
      "metadata": {
        "id": "n9qW5AaBKaY2"
      },
      "execution_count": 4,
      "outputs": []
    },
    {
      "cell_type": "code",
      "source": [
        "# Function to typecast date(given in ms) to 'datetime' datatype\n",
        "def typeCast_to_datetime(date):\n",
        "  try:\n",
        "    return pd.to_datetime(date['$date'], unit='ms')\n",
        "  except TypeError:\n",
        "    return None"
      ],
      "metadata": {
        "id": "VzKHCrMLogy0"
      },
      "execution_count": 5,
      "outputs": []
    },
    {
      "cell_type": "code",
      "source": [
        "# List of columns which are required to be typecasted\n",
        "date_cols = ['createDate', 'dateScanned', 'finishedDate', 'modifyDate', 'pointsAwardedDate', 'purchaseDate']\n",
        "\n",
        "# Looping over the columns and calling the typecast function\n",
        "for i in date_cols:\n",
        "    receipts_df[i] = receipts_df[i].apply(lambda x: typeCast_to_datetime(x))"
      ],
      "metadata": {
        "id": "3i35PIww_bqe"
      },
      "execution_count": 6,
      "outputs": []
    },
    {
      "cell_type": "markdown",
      "source": [
        "We extract '`rewardsReceiptItemList`' column from `receipts_df` into a new dataframe(`items_df`) based on our relational model."
      ],
      "metadata": {
        "id": "7AuRyYOfVjIp"
      }
    },
    {
      "cell_type": "code",
      "source": [
        "# Extract the 'rewardsReceiptItemList' column values into a new DataFrame\n",
        "items_df = receipts_df['rewardsReceiptItemList'].explode().apply(pd.Series)\n",
        "items_df.dropna(axis=1, how='all', inplace=True)\n",
        "\n",
        "#Concatenate the new DataFrame with the _id of receipts_df\n",
        "items_df = pd.concat([receipts_df['_id'], items_df], axis=1)"
      ],
      "metadata": {
        "id": "fWWAuNm7mzwU"
      },
      "execution_count": 7,
      "outputs": []
    },
    {
      "cell_type": "markdown",
      "source": [
        "###Users"
      ],
      "metadata": {
        "id": "oOtlOGJHqy4h"
      }
    },
    {
      "cell_type": "markdown",
      "source": [
        "`Users.json` has similar actions required as we did with `receipts.json`. We extract the `oid` values and convert the date(given in ms) to `datetime` datatype."
      ],
      "metadata": {
        "id": "TI9INhmHXz4T"
      }
    },
    {
      "cell_type": "code",
      "source": [
        "# Reading the users.json file\n",
        "users_df = pd.read_json('users.json', lines=True)"
      ],
      "metadata": {
        "id": "JR1JqkFgqEcc"
      },
      "execution_count": 8,
      "outputs": []
    },
    {
      "cell_type": "code",
      "source": [
        "users_df.head()"
      ],
      "metadata": {
        "colab": {
          "base_uri": "https://localhost:8080/",
          "height": 206
        },
        "id": "V0qcPSnxcCtx",
        "outputId": "37d109fb-41a7-4a4e-f3af-462bae6f8640"
      },
      "execution_count": 9,
      "outputs": [
        {
          "output_type": "execute_result",
          "data": {
            "text/plain": [
              "                                    _id  active               createdDate  \\\n",
              "0  {'$oid': '5ff1e194b6a9d73a3a9f1052'}    True  {'$date': 1609687444800}   \n",
              "1  {'$oid': '5ff1e194b6a9d73a3a9f1052'}    True  {'$date': 1609687444800}   \n",
              "2  {'$oid': '5ff1e194b6a9d73a3a9f1052'}    True  {'$date': 1609687444800}   \n",
              "3  {'$oid': '5ff1e1eacfcf6c399c274ae6'}    True  {'$date': 1609687530554}   \n",
              "4  {'$oid': '5ff1e194b6a9d73a3a9f1052'}    True  {'$date': 1609687444800}   \n",
              "\n",
              "                  lastLogin      role signUpSource state  \n",
              "0  {'$date': 1609687537858}  consumer        Email    WI  \n",
              "1  {'$date': 1609687537858}  consumer        Email    WI  \n",
              "2  {'$date': 1609687537858}  consumer        Email    WI  \n",
              "3  {'$date': 1609687530597}  consumer        Email    WI  \n",
              "4  {'$date': 1609687537858}  consumer        Email    WI  "
            ],
            "text/html": [
              "\n",
              "\n",
              "  <div id=\"df-a0291cb7-a0be-4ac6-ae96-d46ed5e78cfc\">\n",
              "    <div class=\"colab-df-container\">\n",
              "      <div>\n",
              "<style scoped>\n",
              "    .dataframe tbody tr th:only-of-type {\n",
              "        vertical-align: middle;\n",
              "    }\n",
              "\n",
              "    .dataframe tbody tr th {\n",
              "        vertical-align: top;\n",
              "    }\n",
              "\n",
              "    .dataframe thead th {\n",
              "        text-align: right;\n",
              "    }\n",
              "</style>\n",
              "<table border=\"1\" class=\"dataframe\">\n",
              "  <thead>\n",
              "    <tr style=\"text-align: right;\">\n",
              "      <th></th>\n",
              "      <th>_id</th>\n",
              "      <th>active</th>\n",
              "      <th>createdDate</th>\n",
              "      <th>lastLogin</th>\n",
              "      <th>role</th>\n",
              "      <th>signUpSource</th>\n",
              "      <th>state</th>\n",
              "    </tr>\n",
              "  </thead>\n",
              "  <tbody>\n",
              "    <tr>\n",
              "      <th>0</th>\n",
              "      <td>{'$oid': '5ff1e194b6a9d73a3a9f1052'}</td>\n",
              "      <td>True</td>\n",
              "      <td>{'$date': 1609687444800}</td>\n",
              "      <td>{'$date': 1609687537858}</td>\n",
              "      <td>consumer</td>\n",
              "      <td>Email</td>\n",
              "      <td>WI</td>\n",
              "    </tr>\n",
              "    <tr>\n",
              "      <th>1</th>\n",
              "      <td>{'$oid': '5ff1e194b6a9d73a3a9f1052'}</td>\n",
              "      <td>True</td>\n",
              "      <td>{'$date': 1609687444800}</td>\n",
              "      <td>{'$date': 1609687537858}</td>\n",
              "      <td>consumer</td>\n",
              "      <td>Email</td>\n",
              "      <td>WI</td>\n",
              "    </tr>\n",
              "    <tr>\n",
              "      <th>2</th>\n",
              "      <td>{'$oid': '5ff1e194b6a9d73a3a9f1052'}</td>\n",
              "      <td>True</td>\n",
              "      <td>{'$date': 1609687444800}</td>\n",
              "      <td>{'$date': 1609687537858}</td>\n",
              "      <td>consumer</td>\n",
              "      <td>Email</td>\n",
              "      <td>WI</td>\n",
              "    </tr>\n",
              "    <tr>\n",
              "      <th>3</th>\n",
              "      <td>{'$oid': '5ff1e1eacfcf6c399c274ae6'}</td>\n",
              "      <td>True</td>\n",
              "      <td>{'$date': 1609687530554}</td>\n",
              "      <td>{'$date': 1609687530597}</td>\n",
              "      <td>consumer</td>\n",
              "      <td>Email</td>\n",
              "      <td>WI</td>\n",
              "    </tr>\n",
              "    <tr>\n",
              "      <th>4</th>\n",
              "      <td>{'$oid': '5ff1e194b6a9d73a3a9f1052'}</td>\n",
              "      <td>True</td>\n",
              "      <td>{'$date': 1609687444800}</td>\n",
              "      <td>{'$date': 1609687537858}</td>\n",
              "      <td>consumer</td>\n",
              "      <td>Email</td>\n",
              "      <td>WI</td>\n",
              "    </tr>\n",
              "  </tbody>\n",
              "</table>\n",
              "</div>\n",
              "      <button class=\"colab-df-convert\" onclick=\"convertToInteractive('df-a0291cb7-a0be-4ac6-ae96-d46ed5e78cfc')\"\n",
              "              title=\"Convert this dataframe to an interactive table.\"\n",
              "              style=\"display:none;\">\n",
              "\n",
              "  <svg xmlns=\"http://www.w3.org/2000/svg\" height=\"24px\"viewBox=\"0 0 24 24\"\n",
              "       width=\"24px\">\n",
              "    <path d=\"M0 0h24v24H0V0z\" fill=\"none\"/>\n",
              "    <path d=\"M18.56 5.44l.94 2.06.94-2.06 2.06-.94-2.06-.94-.94-2.06-.94 2.06-2.06.94zm-11 1L8.5 8.5l.94-2.06 2.06-.94-2.06-.94L8.5 2.5l-.94 2.06-2.06.94zm10 10l.94 2.06.94-2.06 2.06-.94-2.06-.94-.94-2.06-.94 2.06-2.06.94z\"/><path d=\"M17.41 7.96l-1.37-1.37c-.4-.4-.92-.59-1.43-.59-.52 0-1.04.2-1.43.59L10.3 9.45l-7.72 7.72c-.78.78-.78 2.05 0 2.83L4 21.41c.39.39.9.59 1.41.59.51 0 1.02-.2 1.41-.59l7.78-7.78 2.81-2.81c.8-.78.8-2.07 0-2.86zM5.41 20L4 18.59l7.72-7.72 1.47 1.35L5.41 20z\"/>\n",
              "  </svg>\n",
              "      </button>\n",
              "\n",
              "\n",
              "\n",
              "    <div id=\"df-a1fae6e2-2234-4996-ac04-fb4f38a31ce4\">\n",
              "      <button class=\"colab-df-quickchart\" onclick=\"quickchart('df-a1fae6e2-2234-4996-ac04-fb4f38a31ce4')\"\n",
              "              title=\"Suggest charts.\"\n",
              "              style=\"display:none;\">\n",
              "\n",
              "<svg xmlns=\"http://www.w3.org/2000/svg\" height=\"24px\"viewBox=\"0 0 24 24\"\n",
              "     width=\"24px\">\n",
              "    <g>\n",
              "        <path d=\"M19 3H5c-1.1 0-2 .9-2 2v14c0 1.1.9 2 2 2h14c1.1 0 2-.9 2-2V5c0-1.1-.9-2-2-2zM9 17H7v-7h2v7zm4 0h-2V7h2v10zm4 0h-2v-4h2v4z\"/>\n",
              "    </g>\n",
              "</svg>\n",
              "      </button>\n",
              "    </div>\n",
              "\n",
              "<style>\n",
              "  .colab-df-quickchart {\n",
              "    background-color: #E8F0FE;\n",
              "    border: none;\n",
              "    border-radius: 50%;\n",
              "    cursor: pointer;\n",
              "    display: none;\n",
              "    fill: #1967D2;\n",
              "    height: 32px;\n",
              "    padding: 0 0 0 0;\n",
              "    width: 32px;\n",
              "  }\n",
              "\n",
              "  .colab-df-quickchart:hover {\n",
              "    background-color: #E2EBFA;\n",
              "    box-shadow: 0px 1px 2px rgba(60, 64, 67, 0.3), 0px 1px 3px 1px rgba(60, 64, 67, 0.15);\n",
              "    fill: #174EA6;\n",
              "  }\n",
              "\n",
              "  [theme=dark] .colab-df-quickchart {\n",
              "    background-color: #3B4455;\n",
              "    fill: #D2E3FC;\n",
              "  }\n",
              "\n",
              "  [theme=dark] .colab-df-quickchart:hover {\n",
              "    background-color: #434B5C;\n",
              "    box-shadow: 0px 1px 3px 1px rgba(0, 0, 0, 0.15);\n",
              "    filter: drop-shadow(0px 1px 2px rgba(0, 0, 0, 0.3));\n",
              "    fill: #FFFFFF;\n",
              "  }\n",
              "</style>\n",
              "\n",
              "    <script>\n",
              "      async function quickchart(key) {\n",
              "        const containerElement = document.querySelector('#' + key);\n",
              "        const charts = await google.colab.kernel.invokeFunction(\n",
              "            'suggestCharts', [key], {});\n",
              "      }\n",
              "    </script>\n",
              "\n",
              "      <script>\n",
              "\n",
              "function displayQuickchartButton(domScope) {\n",
              "  let quickchartButtonEl =\n",
              "    domScope.querySelector('#df-a1fae6e2-2234-4996-ac04-fb4f38a31ce4 button.colab-df-quickchart');\n",
              "  quickchartButtonEl.style.display =\n",
              "    google.colab.kernel.accessAllowed ? 'block' : 'none';\n",
              "}\n",
              "\n",
              "        displayQuickchartButton(document);\n",
              "      </script>\n",
              "      <style>\n",
              "    .colab-df-container {\n",
              "      display:flex;\n",
              "      flex-wrap:wrap;\n",
              "      gap: 12px;\n",
              "    }\n",
              "\n",
              "    .colab-df-convert {\n",
              "      background-color: #E8F0FE;\n",
              "      border: none;\n",
              "      border-radius: 50%;\n",
              "      cursor: pointer;\n",
              "      display: none;\n",
              "      fill: #1967D2;\n",
              "      height: 32px;\n",
              "      padding: 0 0 0 0;\n",
              "      width: 32px;\n",
              "    }\n",
              "\n",
              "    .colab-df-convert:hover {\n",
              "      background-color: #E2EBFA;\n",
              "      box-shadow: 0px 1px 2px rgba(60, 64, 67, 0.3), 0px 1px 3px 1px rgba(60, 64, 67, 0.15);\n",
              "      fill: #174EA6;\n",
              "    }\n",
              "\n",
              "    [theme=dark] .colab-df-convert {\n",
              "      background-color: #3B4455;\n",
              "      fill: #D2E3FC;\n",
              "    }\n",
              "\n",
              "    [theme=dark] .colab-df-convert:hover {\n",
              "      background-color: #434B5C;\n",
              "      box-shadow: 0px 1px 3px 1px rgba(0, 0, 0, 0.15);\n",
              "      filter: drop-shadow(0px 1px 2px rgba(0, 0, 0, 0.3));\n",
              "      fill: #FFFFFF;\n",
              "    }\n",
              "  </style>\n",
              "\n",
              "      <script>\n",
              "        const buttonEl =\n",
              "          document.querySelector('#df-a0291cb7-a0be-4ac6-ae96-d46ed5e78cfc button.colab-df-convert');\n",
              "        buttonEl.style.display =\n",
              "          google.colab.kernel.accessAllowed ? 'block' : 'none';\n",
              "\n",
              "        async function convertToInteractive(key) {\n",
              "          const element = document.querySelector('#df-a0291cb7-a0be-4ac6-ae96-d46ed5e78cfc');\n",
              "          const dataTable =\n",
              "            await google.colab.kernel.invokeFunction('convertToInteractive',\n",
              "                                                     [key], {});\n",
              "          if (!dataTable) return;\n",
              "\n",
              "          const docLinkHtml = 'Like what you see? Visit the ' +\n",
              "            '<a target=\"_blank\" href=https://colab.research.google.com/notebooks/data_table.ipynb>data table notebook</a>'\n",
              "            + ' to learn more about interactive tables.';\n",
              "          element.innerHTML = '';\n",
              "          dataTable['output_type'] = 'display_data';\n",
              "          await google.colab.output.renderOutput(dataTable, element);\n",
              "          const docLink = document.createElement('div');\n",
              "          docLink.innerHTML = docLinkHtml;\n",
              "          element.appendChild(docLink);\n",
              "        }\n",
              "      </script>\n",
              "    </div>\n",
              "  </div>\n"
            ]
          },
          "metadata": {},
          "execution_count": 9
        }
      ]
    },
    {
      "cell_type": "code",
      "source": [
        "# Extracting the '$oid' values to '_id' column\n",
        "users_df['_id'] = users_df['_id'].apply(lambda x: x['$oid'])"
      ],
      "metadata": {
        "id": "iWUhOb_Tq72x"
      },
      "execution_count": 10,
      "outputs": []
    },
    {
      "cell_type": "code",
      "source": [
        "# List of columns which are required to be typecasted\n",
        "date_cols = ['createdDate', 'lastLogin']\n",
        "\n",
        "# Looping over the columns and calling the typecast function\n",
        "for i in date_cols:\n",
        "  users_df[i] = users_df[i].apply(lambda x: typeCast_to_datetime(x))"
      ],
      "metadata": {
        "id": "ESnRAePZrD8K"
      },
      "execution_count": 11,
      "outputs": []
    },
    {
      "cell_type": "markdown",
      "source": [
        "###Brands"
      ],
      "metadata": {
        "id": "S6mLBztsr9zf"
      }
    },
    {
      "cell_type": "markdown",
      "source": [
        "Here, we extract the '`$oid`' values into the '`_id`' column and deal with the nested data in column '`cpg`'. To convert it to more structured schema, we extract the '`cpg`' values into a new dataframe(`cpg_df`) and then merge it back to the `brands_df` dataframe as there is one-to-one relationship between them."
      ],
      "metadata": {
        "id": "NRYcrexlZJWM"
      }
    },
    {
      "cell_type": "code",
      "source": [
        "# Reading the brands.json file\n",
        "brands_df = pd.read_json('brands.json', lines=True)"
      ],
      "metadata": {
        "id": "v2aLppLJrn8I"
      },
      "execution_count": 12,
      "outputs": []
    },
    {
      "cell_type": "code",
      "source": [
        "brands_df.head()"
      ],
      "metadata": {
        "colab": {
          "base_uri": "https://localhost:8080/",
          "height": 206
        },
        "id": "3cBHRikysF0Y",
        "outputId": "d877b07d-90da-4b98-8982-1f242bfd9856"
      },
      "execution_count": 13,
      "outputs": [
        {
          "output_type": "execute_result",
          "data": {
            "text/plain": [
              "                                    _id       barcode        category  \\\n",
              "0  {'$oid': '601ac115be37ce2ead437551'}  511111019862          Baking   \n",
              "1  {'$oid': '601c5460be37ce2ead43755f'}  511111519928       Beverages   \n",
              "2  {'$oid': '601ac142be37ce2ead43755d'}  511111819905          Baking   \n",
              "3  {'$oid': '601ac142be37ce2ead43755a'}  511111519874          Baking   \n",
              "4  {'$oid': '601ac142be37ce2ead43755e'}  511111319917  Candy & Sweets   \n",
              "\n",
              "       categoryCode                                                cpg  \\\n",
              "0            BAKING  {'$id': {'$oid': '601ac114be37ce2ead437550'}, ...   \n",
              "1         BEVERAGES  {'$id': {'$oid': '5332f5fbe4b03c9a25efd0ba'}, ...   \n",
              "2            BAKING  {'$id': {'$oid': '601ac142be37ce2ead437559'}, ...   \n",
              "3            BAKING  {'$id': {'$oid': '601ac142be37ce2ead437559'}, ...   \n",
              "4  CANDY_AND_SWEETS  {'$id': {'$oid': '5332fa12e4b03c9a25efd1e7'}, ...   \n",
              "\n",
              "                        name  topBrand                      brandCode  \n",
              "0  test brand @1612366101024       0.0                            NaN  \n",
              "1                  Starbucks       0.0                      STARBUCKS  \n",
              "2  test brand @1612366146176       0.0  TEST BRANDCODE @1612366146176  \n",
              "3  test brand @1612366146051       0.0  TEST BRANDCODE @1612366146051  \n",
              "4  test brand @1612366146827       0.0  TEST BRANDCODE @1612366146827  "
            ],
            "text/html": [
              "\n",
              "\n",
              "  <div id=\"df-9b04f483-4f39-44f4-8f62-34deb3f23b57\">\n",
              "    <div class=\"colab-df-container\">\n",
              "      <div>\n",
              "<style scoped>\n",
              "    .dataframe tbody tr th:only-of-type {\n",
              "        vertical-align: middle;\n",
              "    }\n",
              "\n",
              "    .dataframe tbody tr th {\n",
              "        vertical-align: top;\n",
              "    }\n",
              "\n",
              "    .dataframe thead th {\n",
              "        text-align: right;\n",
              "    }\n",
              "</style>\n",
              "<table border=\"1\" class=\"dataframe\">\n",
              "  <thead>\n",
              "    <tr style=\"text-align: right;\">\n",
              "      <th></th>\n",
              "      <th>_id</th>\n",
              "      <th>barcode</th>\n",
              "      <th>category</th>\n",
              "      <th>categoryCode</th>\n",
              "      <th>cpg</th>\n",
              "      <th>name</th>\n",
              "      <th>topBrand</th>\n",
              "      <th>brandCode</th>\n",
              "    </tr>\n",
              "  </thead>\n",
              "  <tbody>\n",
              "    <tr>\n",
              "      <th>0</th>\n",
              "      <td>{'$oid': '601ac115be37ce2ead437551'}</td>\n",
              "      <td>511111019862</td>\n",
              "      <td>Baking</td>\n",
              "      <td>BAKING</td>\n",
              "      <td>{'$id': {'$oid': '601ac114be37ce2ead437550'}, ...</td>\n",
              "      <td>test brand @1612366101024</td>\n",
              "      <td>0.0</td>\n",
              "      <td>NaN</td>\n",
              "    </tr>\n",
              "    <tr>\n",
              "      <th>1</th>\n",
              "      <td>{'$oid': '601c5460be37ce2ead43755f'}</td>\n",
              "      <td>511111519928</td>\n",
              "      <td>Beverages</td>\n",
              "      <td>BEVERAGES</td>\n",
              "      <td>{'$id': {'$oid': '5332f5fbe4b03c9a25efd0ba'}, ...</td>\n",
              "      <td>Starbucks</td>\n",
              "      <td>0.0</td>\n",
              "      <td>STARBUCKS</td>\n",
              "    </tr>\n",
              "    <tr>\n",
              "      <th>2</th>\n",
              "      <td>{'$oid': '601ac142be37ce2ead43755d'}</td>\n",
              "      <td>511111819905</td>\n",
              "      <td>Baking</td>\n",
              "      <td>BAKING</td>\n",
              "      <td>{'$id': {'$oid': '601ac142be37ce2ead437559'}, ...</td>\n",
              "      <td>test brand @1612366146176</td>\n",
              "      <td>0.0</td>\n",
              "      <td>TEST BRANDCODE @1612366146176</td>\n",
              "    </tr>\n",
              "    <tr>\n",
              "      <th>3</th>\n",
              "      <td>{'$oid': '601ac142be37ce2ead43755a'}</td>\n",
              "      <td>511111519874</td>\n",
              "      <td>Baking</td>\n",
              "      <td>BAKING</td>\n",
              "      <td>{'$id': {'$oid': '601ac142be37ce2ead437559'}, ...</td>\n",
              "      <td>test brand @1612366146051</td>\n",
              "      <td>0.0</td>\n",
              "      <td>TEST BRANDCODE @1612366146051</td>\n",
              "    </tr>\n",
              "    <tr>\n",
              "      <th>4</th>\n",
              "      <td>{'$oid': '601ac142be37ce2ead43755e'}</td>\n",
              "      <td>511111319917</td>\n",
              "      <td>Candy &amp; Sweets</td>\n",
              "      <td>CANDY_AND_SWEETS</td>\n",
              "      <td>{'$id': {'$oid': '5332fa12e4b03c9a25efd1e7'}, ...</td>\n",
              "      <td>test brand @1612366146827</td>\n",
              "      <td>0.0</td>\n",
              "      <td>TEST BRANDCODE @1612366146827</td>\n",
              "    </tr>\n",
              "  </tbody>\n",
              "</table>\n",
              "</div>\n",
              "      <button class=\"colab-df-convert\" onclick=\"convertToInteractive('df-9b04f483-4f39-44f4-8f62-34deb3f23b57')\"\n",
              "              title=\"Convert this dataframe to an interactive table.\"\n",
              "              style=\"display:none;\">\n",
              "\n",
              "  <svg xmlns=\"http://www.w3.org/2000/svg\" height=\"24px\"viewBox=\"0 0 24 24\"\n",
              "       width=\"24px\">\n",
              "    <path d=\"M0 0h24v24H0V0z\" fill=\"none\"/>\n",
              "    <path d=\"M18.56 5.44l.94 2.06.94-2.06 2.06-.94-2.06-.94-.94-2.06-.94 2.06-2.06.94zm-11 1L8.5 8.5l.94-2.06 2.06-.94-2.06-.94L8.5 2.5l-.94 2.06-2.06.94zm10 10l.94 2.06.94-2.06 2.06-.94-2.06-.94-.94-2.06-.94 2.06-2.06.94z\"/><path d=\"M17.41 7.96l-1.37-1.37c-.4-.4-.92-.59-1.43-.59-.52 0-1.04.2-1.43.59L10.3 9.45l-7.72 7.72c-.78.78-.78 2.05 0 2.83L4 21.41c.39.39.9.59 1.41.59.51 0 1.02-.2 1.41-.59l7.78-7.78 2.81-2.81c.8-.78.8-2.07 0-2.86zM5.41 20L4 18.59l7.72-7.72 1.47 1.35L5.41 20z\"/>\n",
              "  </svg>\n",
              "      </button>\n",
              "\n",
              "\n",
              "\n",
              "    <div id=\"df-eb1effe1-7744-4d13-8f1b-12f3f6f307c6\">\n",
              "      <button class=\"colab-df-quickchart\" onclick=\"quickchart('df-eb1effe1-7744-4d13-8f1b-12f3f6f307c6')\"\n",
              "              title=\"Suggest charts.\"\n",
              "              style=\"display:none;\">\n",
              "\n",
              "<svg xmlns=\"http://www.w3.org/2000/svg\" height=\"24px\"viewBox=\"0 0 24 24\"\n",
              "     width=\"24px\">\n",
              "    <g>\n",
              "        <path d=\"M19 3H5c-1.1 0-2 .9-2 2v14c0 1.1.9 2 2 2h14c1.1 0 2-.9 2-2V5c0-1.1-.9-2-2-2zM9 17H7v-7h2v7zm4 0h-2V7h2v10zm4 0h-2v-4h2v4z\"/>\n",
              "    </g>\n",
              "</svg>\n",
              "      </button>\n",
              "    </div>\n",
              "\n",
              "<style>\n",
              "  .colab-df-quickchart {\n",
              "    background-color: #E8F0FE;\n",
              "    border: none;\n",
              "    border-radius: 50%;\n",
              "    cursor: pointer;\n",
              "    display: none;\n",
              "    fill: #1967D2;\n",
              "    height: 32px;\n",
              "    padding: 0 0 0 0;\n",
              "    width: 32px;\n",
              "  }\n",
              "\n",
              "  .colab-df-quickchart:hover {\n",
              "    background-color: #E2EBFA;\n",
              "    box-shadow: 0px 1px 2px rgba(60, 64, 67, 0.3), 0px 1px 3px 1px rgba(60, 64, 67, 0.15);\n",
              "    fill: #174EA6;\n",
              "  }\n",
              "\n",
              "  [theme=dark] .colab-df-quickchart {\n",
              "    background-color: #3B4455;\n",
              "    fill: #D2E3FC;\n",
              "  }\n",
              "\n",
              "  [theme=dark] .colab-df-quickchart:hover {\n",
              "    background-color: #434B5C;\n",
              "    box-shadow: 0px 1px 3px 1px rgba(0, 0, 0, 0.15);\n",
              "    filter: drop-shadow(0px 1px 2px rgba(0, 0, 0, 0.3));\n",
              "    fill: #FFFFFF;\n",
              "  }\n",
              "</style>\n",
              "\n",
              "    <script>\n",
              "      async function quickchart(key) {\n",
              "        const containerElement = document.querySelector('#' + key);\n",
              "        const charts = await google.colab.kernel.invokeFunction(\n",
              "            'suggestCharts', [key], {});\n",
              "      }\n",
              "    </script>\n",
              "\n",
              "      <script>\n",
              "\n",
              "function displayQuickchartButton(domScope) {\n",
              "  let quickchartButtonEl =\n",
              "    domScope.querySelector('#df-eb1effe1-7744-4d13-8f1b-12f3f6f307c6 button.colab-df-quickchart');\n",
              "  quickchartButtonEl.style.display =\n",
              "    google.colab.kernel.accessAllowed ? 'block' : 'none';\n",
              "}\n",
              "\n",
              "        displayQuickchartButton(document);\n",
              "      </script>\n",
              "      <style>\n",
              "    .colab-df-container {\n",
              "      display:flex;\n",
              "      flex-wrap:wrap;\n",
              "      gap: 12px;\n",
              "    }\n",
              "\n",
              "    .colab-df-convert {\n",
              "      background-color: #E8F0FE;\n",
              "      border: none;\n",
              "      border-radius: 50%;\n",
              "      cursor: pointer;\n",
              "      display: none;\n",
              "      fill: #1967D2;\n",
              "      height: 32px;\n",
              "      padding: 0 0 0 0;\n",
              "      width: 32px;\n",
              "    }\n",
              "\n",
              "    .colab-df-convert:hover {\n",
              "      background-color: #E2EBFA;\n",
              "      box-shadow: 0px 1px 2px rgba(60, 64, 67, 0.3), 0px 1px 3px 1px rgba(60, 64, 67, 0.15);\n",
              "      fill: #174EA6;\n",
              "    }\n",
              "\n",
              "    [theme=dark] .colab-df-convert {\n",
              "      background-color: #3B4455;\n",
              "      fill: #D2E3FC;\n",
              "    }\n",
              "\n",
              "    [theme=dark] .colab-df-convert:hover {\n",
              "      background-color: #434B5C;\n",
              "      box-shadow: 0px 1px 3px 1px rgba(0, 0, 0, 0.15);\n",
              "      filter: drop-shadow(0px 1px 2px rgba(0, 0, 0, 0.3));\n",
              "      fill: #FFFFFF;\n",
              "    }\n",
              "  </style>\n",
              "\n",
              "      <script>\n",
              "        const buttonEl =\n",
              "          document.querySelector('#df-9b04f483-4f39-44f4-8f62-34deb3f23b57 button.colab-df-convert');\n",
              "        buttonEl.style.display =\n",
              "          google.colab.kernel.accessAllowed ? 'block' : 'none';\n",
              "\n",
              "        async function convertToInteractive(key) {\n",
              "          const element = document.querySelector('#df-9b04f483-4f39-44f4-8f62-34deb3f23b57');\n",
              "          const dataTable =\n",
              "            await google.colab.kernel.invokeFunction('convertToInteractive',\n",
              "                                                     [key], {});\n",
              "          if (!dataTable) return;\n",
              "\n",
              "          const docLinkHtml = 'Like what you see? Visit the ' +\n",
              "            '<a target=\"_blank\" href=https://colab.research.google.com/notebooks/data_table.ipynb>data table notebook</a>'\n",
              "            + ' to learn more about interactive tables.';\n",
              "          element.innerHTML = '';\n",
              "          dataTable['output_type'] = 'display_data';\n",
              "          await google.colab.output.renderOutput(dataTable, element);\n",
              "          const docLink = document.createElement('div');\n",
              "          docLink.innerHTML = docLinkHtml;\n",
              "          element.appendChild(docLink);\n",
              "        }\n",
              "      </script>\n",
              "    </div>\n",
              "  </div>\n"
            ]
          },
          "metadata": {},
          "execution_count": 13
        }
      ]
    },
    {
      "cell_type": "code",
      "source": [
        "# Extracting the '$oid' values to '_id' column\n",
        "brands_df['_id'] = brands_df['_id'].apply(lambda x: x['$oid'])"
      ],
      "metadata": {
        "id": "6MH0cOoQsIS9"
      },
      "execution_count": 14,
      "outputs": []
    },
    {
      "cell_type": "code",
      "source": [
        "# Extract the 'cpg' column values into a new DataFrame\n",
        "cpg_df = pd.DataFrame(brands_df['cpg'].tolist())\n",
        "\n",
        "cpg_df['$id'] = cpg_df['$id'].apply(lambda x: x['$oid'])"
      ],
      "metadata": {
        "id": "gFI4QgW_tash"
      },
      "execution_count": 15,
      "outputs": []
    },
    {
      "cell_type": "code",
      "source": [
        "#Merging the two dataframes as they have one to one relationship\n",
        "brands_df = pd.concat([brands_df, cpg_df], axis=1)"
      ],
      "metadata": {
        "id": "QQnHz-OHmCfq"
      },
      "execution_count": 16,
      "outputs": []
    },
    {
      "cell_type": "markdown",
      "source": [
        "##Section 2: Queries answering predetermined questions from stakeholder."
      ],
      "metadata": {
        "id": "pfG7x1nOUV7S"
      }
    },
    {
      "cell_type": "markdown",
      "source": [
        "Here we use PostgresSQL and our ERD to answer some queries. I have separately committed a sql file as well for these queries."
      ],
      "metadata": {
        "id": "yhKCIwJ9jUqP"
      }
    },
    {
      "cell_type": "markdown",
      "source": [
        "What are the top 5 brands by receipts scanned for most recent month?"
      ],
      "metadata": {
        "id": "__Ad3NXyiG5a"
      }
    },
    {
      "cell_type": "code",
      "source": [
        "# SELECT i.brandCode AS brandCode, COUNT(r._id) AS receiptCount\n",
        "# FROM Items AS i\n",
        "# JOIN (SELECT _id\n",
        "#       FROM Receipts\n",
        "#       WHERE dateScanned >= DATE_TRUNC('month', CURRENT_DATE) -- Filter for the most recent month\n",
        "# ) AS r ON i.receiptId = r._id\n",
        "# GROUP BY b._id, b.name\n",
        "# ORDER BY receipt_count DESC\n",
        "# LIMIT 5;"
      ],
      "metadata": {
        "id": "AAzzXpYTDZHX"
      },
      "execution_count": 18,
      "outputs": []
    },
    {
      "cell_type": "markdown",
      "source": [
        "When considering average spend from receipts with 'rewardsReceiptStatus’ of ‘Accepted’ or ‘Rejected’, which is greater?"
      ],
      "metadata": {
        "id": "1gmIT0zJyf3a"
      }
    },
    {
      "cell_type": "code",
      "source": [
        "# SELECT rewardsReceiptStatus, AVG(totalSpent) AS averageSpend\n",
        "# FROM Receipts\n",
        "# WHERE rewardsReceiptStatus =  (SELECT CASE\n",
        "#                               WHEN\n",
        "#                               (SELECT avg(totalSpent) FROM Receipts WHERE rewardsReceiptStatus='REJECTED')\n",
        "#                               >\n",
        "#                               (SELECT avg(totalSpent) FROM Receipts WHERE rewardsReceiptStatus='FINISHED')\n",
        "#                               THEN 'REJECTED'\n",
        "#                               ELSE 'FINISHED'\n",
        "#                               END AS statusHighestAvgSpent\n",
        "#                               )\n",
        "# GROUP BY rewardsReceiptStatus;\n"
      ],
      "metadata": {
        "id": "l9ztRh-Ayequ"
      },
      "execution_count": 19,
      "outputs": []
    },
    {
      "cell_type": "markdown",
      "source": [
        "Which brand has the most spend among users who were created within the past 6 months?"
      ],
      "metadata": {
        "id": "pPZNkcadPvCQ"
      }
    },
    {
      "cell_type": "code",
      "source": [
        "# SELECT i.brandCode AS brandCode, SUM(r.totalSpent) AS total_spend\n",
        "# FROM Items AS i\n",
        "# JOIN Receipts AS r ON i.receiptId = r._id\n",
        "# JOIN (\n",
        "#    SELECT _id\n",
        "#    FROM Users\n",
        "#    WHERE createdDate >= (CURRENT_DATE - INTERVAL '6' MONTH) -- Filter for users created within the past 6 months\n",
        "# ) AS u ON r.userId = u._id\n",
        "# GROUP BY b._id, b.name\n",
        "# ORDER BY total_spend DESC\n",
        "# LIMIT 1;\n"
      ],
      "metadata": {
        "id": "0Le9PB--Pvqy"
      },
      "execution_count": 20,
      "outputs": []
    },
    {
      "cell_type": "markdown",
      "source": [
        "Which brand has the most transactions among users who were created within the past 6 months?"
      ],
      "metadata": {
        "id": "FagOBq1uQHij"
      }
    },
    {
      "cell_type": "code",
      "source": [
        "# SELECT i.brandCode AS brandCode, COUNT(r._id) AS transaction_count\n",
        "# FROM Items AS i\n",
        "# JOIN Receipts AS r ON i.receiptId = r._id\n",
        "# JOIN (\n",
        "#    SELECT _id\n",
        "#    FROM Users\n",
        "#    WHERE createdDate >= (CURRENT_DATE - INTERVAL '6' MONTH) -- Filter for users created within the past 6 months\n",
        "# ) AS u ON r.userId = u._id\n",
        "# GROUP BY b._id, b.name\n",
        "# ORDER BY total_spend DESC\n",
        "# LIMIT 1;"
      ],
      "metadata": {
        "id": "ZSamkggLQLtc"
      },
      "execution_count": 21,
      "outputs": []
    },
    {
      "cell_type": "markdown",
      "source": [
        "##Data Quality Check"
      ],
      "metadata": {
        "id": "QY2_BsOkQZAd"
      }
    },
    {
      "cell_type": "markdown",
      "source": [
        "To analyze the data quality:\n",
        "\n",
        "*   We check the null value percentage for columns in all the tables.\n",
        "*   We check for outliers.\n",
        "*   We check for duplicate data.\n",
        "*   We check if datatype is consistent - some of the float values are stored as string\n",
        "\n",
        "\n",
        "\n"
      ],
      "metadata": {
        "id": "ma5pvCyokb1-"
      }
    },
    {
      "cell_type": "markdown",
      "source": [
        "###Checking null values"
      ],
      "metadata": {
        "id": "jeZPKbsyJM2W"
      }
    },
    {
      "cell_type": "code",
      "source": [
        "# Calculate the percentage of null values in each column of brands_df\n",
        "null_percentage_brands = brands_df.isnull().mean() * 100\n",
        "print(null_percentage_brands)"
      ],
      "metadata": {
        "colab": {
          "base_uri": "https://localhost:8080/"
        },
        "id": "clfCSzpEQayj",
        "outputId": "b74ee99a-ebcb-4c6f-c0cc-3732744a7fa1"
      },
      "execution_count": 22,
      "outputs": [
        {
          "output_type": "stream",
          "name": "stdout",
          "text": [
            "_id              0.000000\n",
            "barcode          0.000000\n",
            "category        13.281919\n",
            "categoryCode    55.698372\n",
            "cpg              0.000000\n",
            "name             0.000000\n",
            "topBrand        52.442159\n",
            "brandCode       20.051414\n",
            "$id              0.000000\n",
            "$ref             0.000000\n",
            "dtype: float64\n"
          ]
        }
      ]
    },
    {
      "cell_type": "markdown",
      "source": [
        "\n",
        "Analyzing the data quality and issues caused by that -\n",
        "\n",
        "*   Here we can see that there are null values in `brandCode`, which is a problem because we join `Brands` and `Items` table by `brandCode` column.\n",
        "*   There is inconsistencies in values of `categoryCode`. For the same `category`, some have correct `categoryCode` and some values are null.\n",
        "\n",
        "\n",
        "We need to examine the source of `Brands` table in order to better understand the reasons behind these data quality issues and fix them."
      ],
      "metadata": {
        "id": "hL5sr18E8pNb"
      }
    },
    {
      "cell_type": "code",
      "source": [
        "# Calculate the percentage of null values in each column of receipts_df\n",
        "null_percentage_receipts = receipts_df.isnull().mean() * 100\n",
        "print(null_percentage_receipts)"
      ],
      "metadata": {
        "colab": {
          "base_uri": "https://localhost:8080/"
        },
        "id": "7TzqidsRrha1",
        "outputId": "e18c157f-8ff9-4ed9-ea89-de471219c32b"
      },
      "execution_count": 23,
      "outputs": [
        {
          "output_type": "stream",
          "name": "stdout",
          "text": [
            "_id                         0.000000\n",
            "bonusPointsEarned          51.385165\n",
            "bonusPointsEarnedReason    51.385165\n",
            "createDate                  0.000000\n",
            "dateScanned                 0.000000\n",
            "finishedDate               49.240393\n",
            "modifyDate                  0.000000\n",
            "pointsAwardedDate          52.010724\n",
            "pointsEarned               45.576408\n",
            "purchaseDate               40.035746\n",
            "purchasedItemCount         43.252904\n",
            "rewardsReceiptItemList     39.320822\n",
            "rewardsReceiptStatus        0.000000\n",
            "totalSpent                 38.873995\n",
            "userId                      0.000000\n",
            "dtype: float64\n"
          ]
        }
      ]
    },
    {
      "cell_type": "markdown",
      "source": [
        "Some insights on the data quality and the potential issues that can be caused due it -\n",
        "\n",
        "*   There is significant percentage of values missing for `pointsEarned`, `bonusPointsEarned`, and `purchasedItemCount`.\n",
        "*   Queries like - top 5 items which are bought/scanned the most, or top 5 users who have the most points earned, will give us incorrect result because of these missing values\n",
        "\n"
      ],
      "metadata": {
        "id": "bekRVMTR_eAj"
      }
    },
    {
      "cell_type": "code",
      "source": [
        "# plotting a chart of null values percentage for each column in receipts_df\n",
        "plt.figure(figsize=(10, 6))\n",
        "plt.barh(null_percentage_receipts.index, null_percentage_receipts.values)\n",
        "plt.xlim(0, 100)\n",
        "plt.xlabel('Null Percentage')\n",
        "plt.ylabel('Columns')\n",
        "plt.title('Null Percentage by Column')\n",
        "plt.tight_layout()\n",
        "plt.show()"
      ],
      "metadata": {
        "colab": {
          "base_uri": "https://localhost:8080/",
          "height": 607
        },
        "id": "scLDE01ssvHp",
        "outputId": "f463de1c-6fc9-47a0-ce58-a5732e012005"
      },
      "execution_count": 24,
      "outputs": [
        {
          "output_type": "display_data",
          "data": {
            "text/plain": [
              "<Figure size 1000x600 with 1 Axes>"
            ],
            "image/png": "[encoded data removed]"
          },
          "metadata": {}
        }
      ]
    },
    {
      "cell_type": "code",
      "source": [
        "# Calculate the percentage of null values in each column of users_df\n",
        "null_percentage_users = users_df.isnull().mean() * 100\n",
        "print(null_percentage_users)"
      ],
      "metadata": {
        "colab": {
          "base_uri": "https://localhost:8080/"
        },
        "id": "RhHR8mnZrhjA",
        "outputId": "9f6cab51-8076-413d-ac07-eb1a7f0848a2"
      },
      "execution_count": 25,
      "outputs": [
        {
          "output_type": "stream",
          "name": "stdout",
          "text": [
            "_id              0.000000\n",
            "active           0.000000\n",
            "createdDate      0.000000\n",
            "lastLogin       12.525253\n",
            "role             0.000000\n",
            "signUpSource     9.696970\n",
            "state           11.313131\n",
            "dtype: float64\n"
          ]
        }
      ]
    },
    {
      "cell_type": "code",
      "source": [
        "# Calculate the percentage of null values in each column of items_df\n",
        "null_percentage_items = items_df.isnull().mean() * 100\n",
        "print(null_percentage_items)"
      ],
      "metadata": {
        "colab": {
          "base_uri": "https://localhost:8080/"
        },
        "id": "RlspA5OYrhvO",
        "outputId": "eb673b7f-1cba-4889-b798-844e2f752c84"
      },
      "execution_count": 26,
      "outputs": [
        {
          "output_type": "stream",
          "name": "stdout",
          "text": [
            "_id                                    0.000000\n",
            "barcode                               58.135754\n",
            "description                           11.123154\n",
            "finalPrice                             8.318656\n",
            "itemPrice                              8.318656\n",
            "needsFetchReview                      88.985232\n",
            "partnerItemId                          5.961252\n",
            "preventTargetGapPoints                95.149709\n",
            "quantityPurchased                      8.318656\n",
            "userFlaggedBarcode                    95.434223\n",
            "userFlaggedNewItem                    95.623899\n",
            "userFlaggedPrice                      95.949058\n",
            "userFlaggedQuantity                   95.949058\n",
            "needsFetchReviewReason                97.032922\n",
            "pointsNotAwardedReason                95.393578\n",
            "pointsPayerId                         82.834304\n",
            "rewardsGroup                          76.547893\n",
            "rewardsProductPartnerId               69.258908\n",
            "userFlaggedDescription                97.222599\n",
            "originalMetaBriteBarcode              99.038071\n",
            "originalMetaBriteDescription          99.864517\n",
            "brandCode                             64.774421\n",
            "competitorRewardsGroup                96.274218\n",
            "discountedItemPrice                   21.839859\n",
            "originalReceiptItemText               21.961794\n",
            "itemNumber                            97.927110\n",
            "originalMetaBriteQuantityPurchased    99.796776\n",
            "pointsEarned                          87.440726\n",
            "targetPrice                           94.878743\n",
            "competitiveProduct                    91.261347\n",
            "originalFinalPrice                    99.878065\n",
            "originalMetaBriteItemPrice            99.878065\n",
            "deleted                               99.878065\n",
            "priceAfterCoupon                      87.047825\n",
            "metabriteCampaignId                   88.307817\n",
            "dtype: float64\n"
          ]
        }
      ]
    },
    {
      "cell_type": "markdown",
      "source": [
        "Checking the data quality for items_df, we find that -\n",
        "\n",
        "\n",
        "\n",
        "*   There are lot of columns with significant percentage of null values. `brandCode` has 64% null values, as explained earlier, null values in this column will give us incorrect data when we perform join operations on `Items` and `Brands` table.\n",
        "*   Assuming that this data is coming from the application, we need to check why we are not able to capture values for so many data points.\n",
        "\n"
      ],
      "metadata": {
        "id": "7DlirtY7A_nU"
      }
    },
    {
      "cell_type": "markdown",
      "source": [
        "###Checking for duplicate data"
      ],
      "metadata": {
        "id": "cVA1hplGeqFy"
      }
    },
    {
      "cell_type": "code",
      "source": [
        "# We check if there are duplicate rows for receipts_df\n",
        "receipts_df.drop(columns=['rewardsReceiptItemList'], axis=1, inplace=True)\n",
        "duplicateRows_receipts = receipts_df[receipts_df.duplicated()]\n",
        "print(duplicateRows_receipts)"
      ],
      "metadata": {
        "colab": {
          "base_uri": "https://localhost:8080/"
        },
        "id": "NnoEhz4irhx0",
        "outputId": "3661a92d-b5d6-4507-bc63-0d1721ef2973"
      },
      "execution_count": 27,
      "outputs": [
        {
          "output_type": "stream",
          "name": "stdout",
          "text": [
            "Empty DataFrame\n",
            "Columns: [_id, bonusPointsEarned, bonusPointsEarnedReason, createDate, dateScanned, finishedDate, modifyDate, pointsAwardedDate, pointsEarned, purchaseDate, purchasedItemCount, rewardsReceiptStatus, totalSpent, userId]\n",
            "Index: []\n"
          ]
        }
      ]
    },
    {
      "cell_type": "code",
      "source": [
        "# We check if there are duplicate rows for users_df\n",
        "duplicateRows_users = users_df[users_df.duplicated()]\n",
        "print(duplicateRows_users)"
      ],
      "metadata": {
        "colab": {
          "base_uri": "https://localhost:8080/"
        },
        "id": "GcCoWjxnqnL1",
        "outputId": "91210175-75eb-4a91-ec95-3f4cbe3800ec"
      },
      "execution_count": 28,
      "outputs": [
        {
          "output_type": "stream",
          "name": "stdout",
          "text": [
            "                          _id  active             createdDate  \\\n",
            "1    5ff1e194b6a9d73a3a9f1052    True 2021-01-03 15:24:04.800   \n",
            "2    5ff1e194b6a9d73a3a9f1052    True 2021-01-03 15:24:04.800   \n",
            "4    5ff1e194b6a9d73a3a9f1052    True 2021-01-03 15:24:04.800   \n",
            "5    5ff1e194b6a9d73a3a9f1052    True 2021-01-03 15:24:04.800   \n",
            "8    5ff1e194b6a9d73a3a9f1052    True 2021-01-03 15:24:04.800   \n",
            "..                        ...     ...                     ...   \n",
            "490  54943462e4b07e684157a532    True 2014-12-19 14:21:22.381   \n",
            "491  54943462e4b07e684157a532    True 2014-12-19 14:21:22.381   \n",
            "492  54943462e4b07e684157a532    True 2014-12-19 14:21:22.381   \n",
            "493  54943462e4b07e684157a532    True 2014-12-19 14:21:22.381   \n",
            "494  54943462e4b07e684157a532    True 2014-12-19 14:21:22.381   \n",
            "\n",
            "                  lastLogin         role signUpSource state  \n",
            "1   2021-01-03 15:25:37.858     consumer        Email    WI  \n",
            "2   2021-01-03 15:25:37.858     consumer        Email    WI  \n",
            "4   2021-01-03 15:25:37.858     consumer        Email    WI  \n",
            "5   2021-01-03 15:25:37.858     consumer        Email    WI  \n",
            "8   2021-01-03 15:25:37.858     consumer        Email    WI  \n",
            "..                      ...          ...          ...   ...  \n",
            "490 2021-03-05 16:52:23.204  fetch-staff          NaN   NaN  \n",
            "491 2021-03-05 16:52:23.204  fetch-staff          NaN   NaN  \n",
            "492 2021-03-05 16:52:23.204  fetch-staff          NaN   NaN  \n",
            "493 2021-03-05 16:52:23.204  fetch-staff          NaN   NaN  \n",
            "494 2021-03-05 16:52:23.204  fetch-staff          NaN   NaN  \n",
            "\n",
            "[283 rows x 7 columns]\n"
          ]
        }
      ]
    },
    {
      "cell_type": "markdown",
      "source": [
        "In the users table -\n",
        "\n",
        "\n",
        "*   We can see that there are 283 duplicated rows.\n",
        "*   We need to check why is the case, are we capturing data more frequently than required or we are not updating the table correctly.\n",
        "\n",
        "\n",
        ""
      ],
      "metadata": {
        "id": "-70hY_knJbnN"
      }
    },
    {
      "cell_type": "code",
      "source": [
        "# We check if there are duplicate rows for brands_df\n",
        "brands_df.drop(columns=['cpg'], axis=1, inplace=True)\n",
        "duplicateRows_brands = brands_df[brands_df.duplicated()]\n",
        "print(duplicateRows_brands)"
      ],
      "metadata": {
        "colab": {
          "base_uri": "https://localhost:8080/"
        },
        "id": "1Tsv4F-NluWn",
        "outputId": "bad59385-549d-42a6-d4db-745f571bc491"
      },
      "execution_count": 29,
      "outputs": [
        {
          "output_type": "stream",
          "name": "stdout",
          "text": [
            "Empty DataFrame\n",
            "Columns: [_id, barcode, category, categoryCode, name, topBrand, brandCode, $id, $ref]\n",
            "Index: []\n"
          ]
        }
      ]
    },
    {
      "cell_type": "markdown",
      "source": [
        "##Section 4: Communication with stakeholder"
      ],
      "metadata": {
        "id": "Qh5o-eIIKAI9"
      }
    },
    {
      "cell_type": "markdown",
      "source": [
        "Subject: Concerns Regarding Data Quality and Optimization Opportunities\n",
        "\n",
        "Hello all,\n",
        "\n",
        "I hope this message finds you well. I wanted to bring your attention to some significant findings and considerations concerning the Rewards data that I have been working with. I also have some questions regarding the data that I would appreciate clarification on.\n",
        "\n",
        "1. Data-related Questions:\n",
        "* Can you please specify the source of the brands.json file? Understanding this will help us address the missing values in the brandCode field, which is crucial for our analysis.\n",
        "* I would like to know how data is being captured in Users.json. A significant portion of the data appears to be redundant, so it is important to determine if we are capturing it more frequently than necessary or if there are any inaccuracies in the data capture process.\n",
        "\n",
        "2. Data Quality Issues:\n",
        "* During basic data quality checks, I identified null values in key columns such as barCode and brandCode in the items list. If these null values are not addressed, our queries could produce inaccurate results. For instance, queries like \"find brands with the most receipts scanned for the past month\" or \"find brands with the most sales\" may yield incorrect data.\n",
        "* More than half of the data in Users.json seems to be duplicate, which can lead to inefficient joins and unnecessarily high storage usage.\n",
        "* While examining the receipts data, I noticed some outlier entries where transactions indicated purchases of over 450 items and earning of more than 750 points. I would like to confirm if such events are possible or if this data is erroneous.\n",
        "\n",
        "3. Resolving the Issues:\n",
        "\n",
        "   In order to address these concerns, it is essential to investigate the sources of the JSON files to ensure accurate data capture. If the inflow of data into the JSON files is verified, we can then handle the null values and redundant data before storing it in the data warehouse.\n",
        "\n",
        "4. Additional Information for Optimization:\n",
        "\n",
        "   It would be helpful to have more details about our objectives with this relational model. For example, if we intend to perform numerous ad-hoc analyses, we can focus on optimizing query performance accordingly.\n",
        "\n",
        "5. Performance and Scaling Concerns:\n",
        "\n",
        "   In production, potential performance and scaling concerns may arise due to the growing dataset. To address these concerns, we can implement indexes on frequently queried columns, optimize database queries, and consider horizontal scaling techniques by leveraging distributed servers or cloud-based solutions. Additionally, we can analyze query plans, optimize SQL queries, and explore data denormalization techniques to enhance query performance and efficiency.\n",
        "\n",
        "Addressing these data quality issues and optimizing the data assets will significantly enhance the value and reliability of our analyses. Your insights and guidance are crucial in achieving the desired outcomes. Please share your thoughts, provide any additional information that may be required, or let me know if you would like to discuss these findings further.\n",
        "\n",
        "Thank you for your attention to this matter.\n",
        "\n",
        "Regards,\n",
        "\n",
        "Sumit"
      ],
      "metadata": {
        "id": "8V_BFX4TOBuF"
      }
    }
  ]
}